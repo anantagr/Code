{
 "cells": [
  {
   "cell_type": "markdown",
   "metadata": {},
   "source": [
    "# Code ver. 1\n",
    "- __Date__: Jun 04, 2020\n",
    "- __Author__: Yeji Soh\n",
    "- __Description__: This code is to pick relevant census data filtered by user's geographical (latitude & longitude) data. Note that for now the code only works for the area of Territories only, so please make sure to enter in any latitude and longitude within Territories. Further things to develop is written in **NOTE** section below. Please feel free to add more stuffs that should be consdiered to that section."
   ]
  },
  {
   "cell_type": "markdown",
   "metadata": {},
   "source": [
    "### Import Territories dataset"
   ]
  },
  {
   "cell_type": "code",
   "execution_count": 1,
   "metadata": {},
   "outputs": [],
   "source": [
    "import pandas as pd\n",
    "import numpy as np"
   ]
  },
  {
   "cell_type": "code",
   "execution_count": 64,
   "metadata": {},
   "outputs": [],
   "source": [
    "df = pd.read_csv('TERRITORIES.csv')"
   ]
  },
  {
   "cell_type": "code",
   "execution_count": 3,
   "metadata": {},
   "outputs": [
    {
     "data": {
      "text/html": [
       "<div>\n",
       "<style scoped>\n",
       "    .dataframe tbody tr th:only-of-type {\n",
       "        vertical-align: middle;\n",
       "    }\n",
       "\n",
       "    .dataframe tbody tr th {\n",
       "        vertical-align: top;\n",
       "    }\n",
       "\n",
       "    .dataframe thead th {\n",
       "        text-align: right;\n",
       "    }\n",
       "</style>\n",
       "<table border=\"1\" class=\"dataframe\">\n",
       "  <thead>\n",
       "    <tr style=\"text-align: right;\">\n",
       "      <th></th>\n",
       "      <th>CENSUS_YEAR</th>\n",
       "      <th>GEO_CODE (POR)</th>\n",
       "      <th>GEO_LEVEL</th>\n",
       "      <th>GEO_NAME</th>\n",
       "      <th>GNR</th>\n",
       "      <th>GNR_LF</th>\n",
       "      <th>DATA_QUALITY_FLAG</th>\n",
       "      <th>ALT_GEO_CODE</th>\n",
       "      <th>DIM: Profile of Dissemination Areas (2247)</th>\n",
       "      <th>Member ID: Profile of Dissemination Areas (2247)</th>\n",
       "      <th>Notes: Profile of Dissemination Areas (2247)</th>\n",
       "      <th>Dim: Sex (3): Member ID: [1]: Total - Sex</th>\n",
       "      <th>Dim: Sex (3): Member ID: [2]: Male</th>\n",
       "      <th>Dim: Sex (3): Member ID: [3]: Female</th>\n",
       "    </tr>\n",
       "  </thead>\n",
       "  <tbody>\n",
       "    <tr>\n",
       "      <th>0</th>\n",
       "      <td>2016</td>\n",
       "      <td>1</td>\n",
       "      <td>0</td>\n",
       "      <td>Canada</td>\n",
       "      <td>4.0</td>\n",
       "      <td>5.1</td>\n",
       "      <td>20000</td>\n",
       "      <td>1</td>\n",
       "      <td>Population, 2016</td>\n",
       "      <td>1.0</td>\n",
       "      <td>1.0</td>\n",
       "      <td>35151728</td>\n",
       "      <td>...</td>\n",
       "      <td>...</td>\n",
       "    </tr>\n",
       "    <tr>\n",
       "      <th>1</th>\n",
       "      <td>2016</td>\n",
       "      <td>1</td>\n",
       "      <td>0</td>\n",
       "      <td>Canada</td>\n",
       "      <td>4.0</td>\n",
       "      <td>5.1</td>\n",
       "      <td>20000</td>\n",
       "      <td>1</td>\n",
       "      <td>Population, 2011</td>\n",
       "      <td>2.0</td>\n",
       "      <td>2.0</td>\n",
       "      <td>33476688</td>\n",
       "      <td>...</td>\n",
       "      <td>...</td>\n",
       "    </tr>\n",
       "    <tr>\n",
       "      <th>2</th>\n",
       "      <td>2016</td>\n",
       "      <td>1</td>\n",
       "      <td>0</td>\n",
       "      <td>Canada</td>\n",
       "      <td>4.0</td>\n",
       "      <td>5.1</td>\n",
       "      <td>20000</td>\n",
       "      <td>1</td>\n",
       "      <td>Population percentage change, 2011 to 2016</td>\n",
       "      <td>3.0</td>\n",
       "      <td>NaN</td>\n",
       "      <td>5.0</td>\n",
       "      <td>...</td>\n",
       "      <td>...</td>\n",
       "    </tr>\n",
       "    <tr>\n",
       "      <th>3</th>\n",
       "      <td>2016</td>\n",
       "      <td>1</td>\n",
       "      <td>0</td>\n",
       "      <td>Canada</td>\n",
       "      <td>4.0</td>\n",
       "      <td>5.1</td>\n",
       "      <td>20000</td>\n",
       "      <td>1</td>\n",
       "      <td>Total private dwellings</td>\n",
       "      <td>4.0</td>\n",
       "      <td>3.0</td>\n",
       "      <td>15412443</td>\n",
       "      <td>...</td>\n",
       "      <td>...</td>\n",
       "    </tr>\n",
       "    <tr>\n",
       "      <th>4</th>\n",
       "      <td>2016</td>\n",
       "      <td>1</td>\n",
       "      <td>0</td>\n",
       "      <td>Canada</td>\n",
       "      <td>4.0</td>\n",
       "      <td>5.1</td>\n",
       "      <td>20000</td>\n",
       "      <td>1</td>\n",
       "      <td>Private dwellings occupied by usual residents</td>\n",
       "      <td>5.0</td>\n",
       "      <td>4.0</td>\n",
       "      <td>14072079</td>\n",
       "      <td>...</td>\n",
       "      <td>...</td>\n",
       "    </tr>\n",
       "  </tbody>\n",
       "</table>\n",
       "</div>"
      ],
      "text/plain": [
       "   CENSUS_YEAR  GEO_CODE (POR)  GEO_LEVEL GEO_NAME  GNR  GNR_LF  \\\n",
       "0         2016               1          0   Canada  4.0     5.1   \n",
       "1         2016               1          0   Canada  4.0     5.1   \n",
       "2         2016               1          0   Canada  4.0     5.1   \n",
       "3         2016               1          0   Canada  4.0     5.1   \n",
       "4         2016               1          0   Canada  4.0     5.1   \n",
       "\n",
       "   DATA_QUALITY_FLAG  ALT_GEO_CODE  \\\n",
       "0              20000             1   \n",
       "1              20000             1   \n",
       "2              20000             1   \n",
       "3              20000             1   \n",
       "4              20000             1   \n",
       "\n",
       "      DIM: Profile of Dissemination Areas (2247)  \\\n",
       "0                               Population, 2016   \n",
       "1                               Population, 2011   \n",
       "2     Population percentage change, 2011 to 2016   \n",
       "3                        Total private dwellings   \n",
       "4  Private dwellings occupied by usual residents   \n",
       "\n",
       "   Member ID: Profile of Dissemination Areas (2247)  \\\n",
       "0                                               1.0   \n",
       "1                                               2.0   \n",
       "2                                               3.0   \n",
       "3                                               4.0   \n",
       "4                                               5.0   \n",
       "\n",
       "   Notes: Profile of Dissemination Areas (2247)  \\\n",
       "0                                           1.0   \n",
       "1                                           2.0   \n",
       "2                                           NaN   \n",
       "3                                           3.0   \n",
       "4                                           4.0   \n",
       "\n",
       "  Dim: Sex (3): Member ID: [1]: Total - Sex  \\\n",
       "0                                  35151728   \n",
       "1                                  33476688   \n",
       "2                                       5.0   \n",
       "3                                  15412443   \n",
       "4                                  14072079   \n",
       "\n",
       "  Dim: Sex (3): Member ID: [2]: Male Dim: Sex (3): Member ID: [3]: Female  \n",
       "0                                ...                                  ...  \n",
       "1                                ...                                  ...  \n",
       "2                                ...                                  ...  \n",
       "3                                ...                                  ...  \n",
       "4                                ...                                  ...  "
      ]
     },
     "execution_count": 3,
     "metadata": {},
     "output_type": "execute_result"
    }
   ],
   "source": [
    "df.head()"
   ]
  },
  {
   "cell_type": "markdown",
   "metadata": {},
   "source": [
    "### Test Lat & Long and reverse-geocode"
   ]
  },
  {
   "cell_type": "code",
   "execution_count": 4,
   "metadata": {},
   "outputs": [],
   "source": [
    "import geopandas as gpd\n",
    "import geopy\n",
    "from geopy.geocoders import Nominatim\n",
    "from geopy.extra.rate_limiter import RateLimiter"
   ]
  },
  {
   "cell_type": "code",
   "execution_count": 7,
   "metadata": {},
   "outputs": [],
   "source": [
    "locator = Nominatim(user_agent=\"myGeocoder\")"
   ]
  },
  {
   "cell_type": "code",
   "execution_count": 28,
   "metadata": {},
   "outputs": [
    {
     "data": {
      "text/plain": [
       "{'place_id': 7424509,\n",
       " 'licence': 'Data © OpenStreetMap contributors, ODbL 1.0. https://osm.org/copyright',\n",
       " 'osm_type': 'way',\n",
       " 'osm_id': 101675136,\n",
       " 'lat': '52.6760421',\n",
       " 'lon': '-113.5954945',\n",
       " 'display_name': '6210, 48 Avenue, Ponoka, Alberta, T4J 1K3, Canada',\n",
       " 'address': {'house_number': '6210',\n",
       "  'road': '48 Avenue',\n",
       "  'town': 'Ponoka',\n",
       "  'state': 'Alberta',\n",
       "  'postcode': 'T4J 1K3',\n",
       "  'country': 'Canada',\n",
       "  'country_code': 'ca'},\n",
       " 'boundingbox': ['52.6759921', '52.6760921', '-113.5955445', '-113.5954445']}"
      ]
     },
     "execution_count": 28,
     "metadata": {},
     "output_type": "execute_result"
    }
   ],
   "source": [
    "coord=\"52.675885, -113.594679\"\n",
    "location = locator.reverse(coord)\n",
    "location.raw"
   ]
  },
  {
   "cell_type": "code",
   "execution_count": 29,
   "metadata": {},
   "outputs": [
    {
     "name": "stdout",
     "output_type": "stream",
     "text": [
      "This place is in Ponoka\n"
     ]
    }
   ],
   "source": [
    "if location.raw['address']['town' or 'city'] in location[0]:\n",
    "    print(\"This place is in\",location.raw['address']['town' or 'city'])"
   ]
  },
  {
   "cell_type": "markdown",
   "metadata": {},
   "source": [
    "### Code to filter out data by user's location"
   ]
  },
  {
   "cell_type": "markdown",
   "metadata": {},
   "source": [
    "__01. See the GEO_Name in dataset__"
   ]
  },
  {
   "cell_type": "code",
   "execution_count": 10,
   "metadata": {},
   "outputs": [],
   "source": [
    "# See how many geo in data\n",
    "df2 = df.drop_duplicates(subset = [\"GEO_NAME\"])"
   ]
  },
  {
   "cell_type": "code",
   "execution_count": 11,
   "metadata": {},
   "outputs": [],
   "source": [
    "df2 = df2[['GEO_NAME']]\n",
    "df2.reset_index(drop=True, inplace=True)"
   ]
  },
  {
   "cell_type": "code",
   "execution_count": 12,
   "metadata": {},
   "outputs": [],
   "source": [
    "df2 = df2.sort_values(by='GEO_NAME', ascending=False)\n",
    "df2.reset_index(drop=True, inplace=True)"
   ]
  },
  {
   "cell_type": "code",
   "execution_count": 13,
   "metadata": {},
   "outputs": [
    {
     "data": {
      "text/html": [
       "<div>\n",
       "<style scoped>\n",
       "    .dataframe tbody tr th:only-of-type {\n",
       "        vertical-align: middle;\n",
       "    }\n",
       "\n",
       "    .dataframe tbody tr th {\n",
       "        vertical-align: top;\n",
       "    }\n",
       "\n",
       "    .dataframe thead th {\n",
       "        text-align: right;\n",
       "    }\n",
       "</style>\n",
       "<table border=\"1\" class=\"dataframe\">\n",
       "  <thead>\n",
       "    <tr style=\"text-align: right;\">\n",
       "      <th></th>\n",
       "      <th>GEO_NAME</th>\n",
       "    </tr>\n",
       "  </thead>\n",
       "  <tbody>\n",
       "    <tr>\n",
       "      <th>0</th>\n",
       "      <td>Yukon, Unorganized</td>\n",
       "    </tr>\n",
       "    <tr>\n",
       "      <th>1</th>\n",
       "      <td>Yukon</td>\n",
       "    </tr>\n",
       "    <tr>\n",
       "      <th>2</th>\n",
       "      <td>Yellowknife</td>\n",
       "    </tr>\n",
       "    <tr>\n",
       "      <th>3</th>\n",
       "      <td>Wrigley</td>\n",
       "    </tr>\n",
       "    <tr>\n",
       "      <th>4</th>\n",
       "      <td>Whitehorse, Unorganized</td>\n",
       "    </tr>\n",
       "    <tr>\n",
       "      <th>...</th>\n",
       "      <td>...</td>\n",
       "    </tr>\n",
       "    <tr>\n",
       "      <th>243</th>\n",
       "      <td>60010122</td>\n",
       "    </tr>\n",
       "    <tr>\n",
       "      <th>244</th>\n",
       "      <td>60010121</td>\n",
       "    </tr>\n",
       "    <tr>\n",
       "      <th>245</th>\n",
       "      <td>60010120</td>\n",
       "    </tr>\n",
       "    <tr>\n",
       "      <th>246</th>\n",
       "      <td>60010119</td>\n",
       "    </tr>\n",
       "    <tr>\n",
       "      <th>247</th>\n",
       "      <td>60010118</td>\n",
       "    </tr>\n",
       "  </tbody>\n",
       "</table>\n",
       "<p>248 rows × 1 columns</p>\n",
       "</div>"
      ],
      "text/plain": [
       "                    GEO_NAME\n",
       "0         Yukon, Unorganized\n",
       "1                      Yukon\n",
       "2                Yellowknife\n",
       "3                    Wrigley\n",
       "4    Whitehorse, Unorganized\n",
       "..                       ...\n",
       "243                 60010122\n",
       "244                 60010121\n",
       "245                 60010120\n",
       "246                 60010119\n",
       "247                 60010118\n",
       "\n",
       "[248 rows x 1 columns]"
      ]
     },
     "execution_count": 13,
     "metadata": {},
     "output_type": "execute_result"
    }
   ],
   "source": [
    "df2"
   ]
  },
  {
   "cell_type": "markdown",
   "metadata": {},
   "source": [
    "__02. Get latitude & Longitude from User and geographical location accordingly__"
   ]
  },
  {
   "cell_type": "code",
   "execution_count": 98,
   "metadata": {},
   "outputs": [
    {
     "name": "stdout",
     "output_type": "stream",
     "text": [
      "Enter the latitude: 62.459594\n",
      "62.459594\n",
      "Enter the longitude: -114.412841\n",
      "-114.412841\n"
     ]
    }
   ],
   "source": [
    "lat = input(\"Enter the latitude: \")\n",
    "print(lat)\n",
    "lng = input(\"Enter the longitude: \")\n",
    "print(lng)"
   ]
  },
  {
   "cell_type": "code",
   "execution_count": 99,
   "metadata": {},
   "outputs": [],
   "source": [
    "coord1=lat+\",\"+lng"
   ]
  },
  {
   "cell_type": "code",
   "execution_count": 100,
   "metadata": {},
   "outputs": [
    {
     "data": {
      "text/plain": [
       "{'place_id': 8159189,\n",
       " 'licence': 'Data © OpenStreetMap contributors, ODbL 1.0. https://osm.org/copyright',\n",
       " 'osm_type': 'way',\n",
       " 'osm_id': 104193767,\n",
       " 'lat': '62.45937108021979',\n",
       " 'lon': '-114.41263414994641',\n",
       " 'display_name': '354, Old Airport Road, New Town, Yellowknife, North Slave Region, Northwest Territories, X1A 3T4, Canada',\n",
       " 'address': {'house_number': '354',\n",
       "  'road': 'Old Airport Road',\n",
       "  'suburb': 'New Town',\n",
       "  'city': 'Yellowknife',\n",
       "  'county': 'North Slave Region',\n",
       "  'state': 'Northwest Territories',\n",
       "  'postcode': 'X1A 3T4',\n",
       "  'country': 'Canada',\n",
       "  'country_code': 'ca'},\n",
       " 'boundingbox': ['62.45932108022',\n",
       "  '62.45942108022',\n",
       "  '-114.41268414995',\n",
       "  '-114.41258414995']}"
      ]
     },
     "execution_count": 100,
     "metadata": {},
     "output_type": "execute_result"
    }
   ],
   "source": [
    "location = locator.reverse(coord1)\n",
    "location.raw"
   ]
  },
  {
   "cell_type": "code",
   "execution_count": 96,
   "metadata": {},
   "outputs": [
    {
     "data": {
      "text/plain": [
       "'Yellowknife'"
      ]
     },
     "execution_count": 96,
     "metadata": {},
     "output_type": "execute_result"
    }
   ],
   "source": [
    "location.raw['address']['city' or 'town']"
   ]
  },
  {
   "cell_type": "markdown",
   "metadata": {},
   "source": [
    "__03. Check the user geo info is found in dataset <br>\n",
    "This part would be replaced later with the code checking if the coordinate given is found in boundary files__"
   ]
  },
  {
   "cell_type": "code",
   "execution_count": 97,
   "metadata": {},
   "outputs": [
    {
     "name": "stdout",
     "output_type": "stream",
     "text": [
      "This place is in dataset.\n"
     ]
    }
   ],
   "source": [
    "if location.raw['address']['city' or 'town'] in df2.values:\n",
    "    print(\"This place is in dataset.\")\n",
    "else:\n",
    "    print(\"This place is NOT in dataset.\")"
   ]
  },
  {
   "cell_type": "markdown",
   "metadata": {},
   "source": [
    "### Filter the information corresponding to user's location"
   ]
  },
  {
   "cell_type": "code",
   "execution_count": 65,
   "metadata": {},
   "outputs": [
    {
     "data": {
      "text/html": [
       "<div>\n",
       "<style scoped>\n",
       "    .dataframe tbody tr th:only-of-type {\n",
       "        vertical-align: middle;\n",
       "    }\n",
       "\n",
       "    .dataframe tbody tr th {\n",
       "        vertical-align: top;\n",
       "    }\n",
       "\n",
       "    .dataframe thead th {\n",
       "        text-align: right;\n",
       "    }\n",
       "</style>\n",
       "<table border=\"1\" class=\"dataframe\">\n",
       "  <thead>\n",
       "    <tr style=\"text-align: right;\">\n",
       "      <th></th>\n",
       "      <th>CENSUS_YEAR</th>\n",
       "      <th>GEO_CODE (POR)</th>\n",
       "      <th>GEO_LEVEL</th>\n",
       "      <th>GEO_NAME</th>\n",
       "      <th>GNR</th>\n",
       "      <th>GNR_LF</th>\n",
       "      <th>DATA_QUALITY_FLAG</th>\n",
       "      <th>ALT_GEO_CODE</th>\n",
       "      <th>Data</th>\n",
       "      <th>Member ID: Profile of Dissemination Areas (2247)</th>\n",
       "      <th>Notes: Profile of Dissemination Areas (2247)</th>\n",
       "      <th>Total gender</th>\n",
       "      <th>Male</th>\n",
       "      <th>Female</th>\n",
       "    </tr>\n",
       "  </thead>\n",
       "  <tbody>\n",
       "    <tr>\n",
       "      <th>0</th>\n",
       "      <td>2016</td>\n",
       "      <td>1</td>\n",
       "      <td>0</td>\n",
       "      <td>Canada</td>\n",
       "      <td>4.0</td>\n",
       "      <td>5.1</td>\n",
       "      <td>20000</td>\n",
       "      <td>1</td>\n",
       "      <td>Population, 2016</td>\n",
       "      <td>1.0</td>\n",
       "      <td>1.0</td>\n",
       "      <td>35151728</td>\n",
       "      <td>...</td>\n",
       "      <td>...</td>\n",
       "    </tr>\n",
       "    <tr>\n",
       "      <th>1</th>\n",
       "      <td>2016</td>\n",
       "      <td>1</td>\n",
       "      <td>0</td>\n",
       "      <td>Canada</td>\n",
       "      <td>4.0</td>\n",
       "      <td>5.1</td>\n",
       "      <td>20000</td>\n",
       "      <td>1</td>\n",
       "      <td>Population, 2011</td>\n",
       "      <td>2.0</td>\n",
       "      <td>2.0</td>\n",
       "      <td>33476688</td>\n",
       "      <td>...</td>\n",
       "      <td>...</td>\n",
       "    </tr>\n",
       "    <tr>\n",
       "      <th>2</th>\n",
       "      <td>2016</td>\n",
       "      <td>1</td>\n",
       "      <td>0</td>\n",
       "      <td>Canada</td>\n",
       "      <td>4.0</td>\n",
       "      <td>5.1</td>\n",
       "      <td>20000</td>\n",
       "      <td>1</td>\n",
       "      <td>Population percentage change, 2011 to 2016</td>\n",
       "      <td>3.0</td>\n",
       "      <td>NaN</td>\n",
       "      <td>5.0</td>\n",
       "      <td>...</td>\n",
       "      <td>...</td>\n",
       "    </tr>\n",
       "    <tr>\n",
       "      <th>3</th>\n",
       "      <td>2016</td>\n",
       "      <td>1</td>\n",
       "      <td>0</td>\n",
       "      <td>Canada</td>\n",
       "      <td>4.0</td>\n",
       "      <td>5.1</td>\n",
       "      <td>20000</td>\n",
       "      <td>1</td>\n",
       "      <td>Total private dwellings</td>\n",
       "      <td>4.0</td>\n",
       "      <td>3.0</td>\n",
       "      <td>15412443</td>\n",
       "      <td>...</td>\n",
       "      <td>...</td>\n",
       "    </tr>\n",
       "    <tr>\n",
       "      <th>4</th>\n",
       "      <td>2016</td>\n",
       "      <td>1</td>\n",
       "      <td>0</td>\n",
       "      <td>Canada</td>\n",
       "      <td>4.0</td>\n",
       "      <td>5.1</td>\n",
       "      <td>20000</td>\n",
       "      <td>1</td>\n",
       "      <td>Private dwellings occupied by usual residents</td>\n",
       "      <td>5.0</td>\n",
       "      <td>4.0</td>\n",
       "      <td>14072079</td>\n",
       "      <td>...</td>\n",
       "      <td>...</td>\n",
       "    </tr>\n",
       "  </tbody>\n",
       "</table>\n",
       "</div>"
      ],
      "text/plain": [
       "   CENSUS_YEAR  GEO_CODE (POR)  GEO_LEVEL GEO_NAME  GNR  GNR_LF  \\\n",
       "0         2016               1          0   Canada  4.0     5.1   \n",
       "1         2016               1          0   Canada  4.0     5.1   \n",
       "2         2016               1          0   Canada  4.0     5.1   \n",
       "3         2016               1          0   Canada  4.0     5.1   \n",
       "4         2016               1          0   Canada  4.0     5.1   \n",
       "\n",
       "   DATA_QUALITY_FLAG  ALT_GEO_CODE  \\\n",
       "0              20000             1   \n",
       "1              20000             1   \n",
       "2              20000             1   \n",
       "3              20000             1   \n",
       "4              20000             1   \n",
       "\n",
       "                                            Data  \\\n",
       "0                               Population, 2016   \n",
       "1                               Population, 2011   \n",
       "2     Population percentage change, 2011 to 2016   \n",
       "3                        Total private dwellings   \n",
       "4  Private dwellings occupied by usual residents   \n",
       "\n",
       "   Member ID: Profile of Dissemination Areas (2247)  \\\n",
       "0                                               1.0   \n",
       "1                                               2.0   \n",
       "2                                               3.0   \n",
       "3                                               4.0   \n",
       "4                                               5.0   \n",
       "\n",
       "   Notes: Profile of Dissemination Areas (2247) Total gender Male Female  \n",
       "0                                           1.0     35151728  ...    ...  \n",
       "1                                           2.0     33476688  ...    ...  \n",
       "2                                           NaN          5.0  ...    ...  \n",
       "3                                           3.0     15412443  ...    ...  \n",
       "4                                           4.0     14072079  ...    ...  "
      ]
     },
     "execution_count": 65,
     "metadata": {},
     "output_type": "execute_result"
    }
   ],
   "source": [
    "df.rename(columns={\"DIM: Profile of Dissemination Areas (2247)\": \"Data\", \"Dim: Sex (3): Member ID: [1]: Total - Sex\": \"Total Gender\", \"Dim: Sex (3): Member ID: [2]: Male\":\"Male\",\"Dim: Sex (3): Member ID: [3]: Female\":\"Female\"}, inplace=True)\n",
    "df.head()"
   ]
  },
  {
   "cell_type": "code",
   "execution_count": 87,
   "metadata": {},
   "outputs": [
    {
     "data": {
      "text/html": [
       "<div>\n",
       "<style scoped>\n",
       "    .dataframe tbody tr th:only-of-type {\n",
       "        vertical-align: middle;\n",
       "    }\n",
       "\n",
       "    .dataframe tbody tr th {\n",
       "        vertical-align: top;\n",
       "    }\n",
       "\n",
       "    .dataframe thead th {\n",
       "        text-align: right;\n",
       "    }\n",
       "</style>\n",
       "<table border=\"1\" class=\"dataframe\">\n",
       "  <thead>\n",
       "    <tr style=\"text-align: right;\">\n",
       "      <th></th>\n",
       "      <th>CENSUS_YEAR</th>\n",
       "      <th>GEO_CODE (POR)</th>\n",
       "      <th>GEO_LEVEL</th>\n",
       "      <th>GEO_NAME</th>\n",
       "      <th>GNR</th>\n",
       "      <th>GNR_LF</th>\n",
       "      <th>DATA_QUALITY_FLAG</th>\n",
       "      <th>ALT_GEO_CODE</th>\n",
       "      <th>Data</th>\n",
       "      <th>Member ID: Profile of Dissemination Areas (2247)</th>\n",
       "      <th>Notes: Profile of Dissemination Areas (2247)</th>\n",
       "      <th>Total gender</th>\n",
       "      <th>Male</th>\n",
       "      <th>Female</th>\n",
       "    </tr>\n",
       "  </thead>\n",
       "  <tbody>\n",
       "    <tr>\n",
       "      <th>478611</th>\n",
       "      <td>2016</td>\n",
       "      <td>6106023</td>\n",
       "      <td>3</td>\n",
       "      <td>Yellowknife</td>\n",
       "      <td>6.4</td>\n",
       "      <td>8.9</td>\n",
       "      <td>101</td>\n",
       "      <td>6106023</td>\n",
       "      <td>Population, 2016</td>\n",
       "      <td>1.0</td>\n",
       "      <td>1.0</td>\n",
       "      <td>19569</td>\n",
       "      <td>...</td>\n",
       "      <td>...</td>\n",
       "    </tr>\n",
       "    <tr>\n",
       "      <th>478612</th>\n",
       "      <td>2016</td>\n",
       "      <td>6106023</td>\n",
       "      <td>3</td>\n",
       "      <td>Yellowknife</td>\n",
       "      <td>6.4</td>\n",
       "      <td>8.9</td>\n",
       "      <td>101</td>\n",
       "      <td>6106023</td>\n",
       "      <td>Population, 2011</td>\n",
       "      <td>2.0</td>\n",
       "      <td>2.0</td>\n",
       "      <td>19234</td>\n",
       "      <td>...</td>\n",
       "      <td>...</td>\n",
       "    </tr>\n",
       "    <tr>\n",
       "      <th>478613</th>\n",
       "      <td>2016</td>\n",
       "      <td>6106023</td>\n",
       "      <td>3</td>\n",
       "      <td>Yellowknife</td>\n",
       "      <td>6.4</td>\n",
       "      <td>8.9</td>\n",
       "      <td>101</td>\n",
       "      <td>6106023</td>\n",
       "      <td>Population percentage change, 2011 to 2016</td>\n",
       "      <td>3.0</td>\n",
       "      <td>NaN</td>\n",
       "      <td>1.7</td>\n",
       "      <td>...</td>\n",
       "      <td>...</td>\n",
       "    </tr>\n",
       "    <tr>\n",
       "      <th>478614</th>\n",
       "      <td>2016</td>\n",
       "      <td>6106023</td>\n",
       "      <td>3</td>\n",
       "      <td>Yellowknife</td>\n",
       "      <td>6.4</td>\n",
       "      <td>8.9</td>\n",
       "      <td>101</td>\n",
       "      <td>6106023</td>\n",
       "      <td>Total private dwellings</td>\n",
       "      <td>4.0</td>\n",
       "      <td>3.0</td>\n",
       "      <td>7758</td>\n",
       "      <td>...</td>\n",
       "      <td>...</td>\n",
       "    </tr>\n",
       "    <tr>\n",
       "      <th>478615</th>\n",
       "      <td>2016</td>\n",
       "      <td>6106023</td>\n",
       "      <td>3</td>\n",
       "      <td>Yellowknife</td>\n",
       "      <td>6.4</td>\n",
       "      <td>8.9</td>\n",
       "      <td>101</td>\n",
       "      <td>6106023</td>\n",
       "      <td>Private dwellings occupied by usual residents</td>\n",
       "      <td>5.0</td>\n",
       "      <td>4.0</td>\n",
       "      <td>7131</td>\n",
       "      <td>...</td>\n",
       "      <td>...</td>\n",
       "    </tr>\n",
       "  </tbody>\n",
       "</table>\n",
       "</div>"
      ],
      "text/plain": [
       "        CENSUS_YEAR  GEO_CODE (POR)  GEO_LEVEL     GEO_NAME  GNR  GNR_LF  \\\n",
       "478611         2016         6106023          3  Yellowknife  6.4     8.9   \n",
       "478612         2016         6106023          3  Yellowknife  6.4     8.9   \n",
       "478613         2016         6106023          3  Yellowknife  6.4     8.9   \n",
       "478614         2016         6106023          3  Yellowknife  6.4     8.9   \n",
       "478615         2016         6106023          3  Yellowknife  6.4     8.9   \n",
       "\n",
       "        DATA_QUALITY_FLAG  ALT_GEO_CODE  \\\n",
       "478611                101       6106023   \n",
       "478612                101       6106023   \n",
       "478613                101       6106023   \n",
       "478614                101       6106023   \n",
       "478615                101       6106023   \n",
       "\n",
       "                                                 Data  \\\n",
       "478611                               Population, 2016   \n",
       "478612                               Population, 2011   \n",
       "478613     Population percentage change, 2011 to 2016   \n",
       "478614                        Total private dwellings   \n",
       "478615  Private dwellings occupied by usual residents   \n",
       "\n",
       "        Member ID: Profile of Dissemination Areas (2247)  \\\n",
       "478611                                               1.0   \n",
       "478612                                               2.0   \n",
       "478613                                               3.0   \n",
       "478614                                               4.0   \n",
       "478615                                               5.0   \n",
       "\n",
       "        Notes: Profile of Dissemination Areas (2247) Total gender Male Female  \n",
       "478611                                           1.0        19569  ...    ...  \n",
       "478612                                           2.0        19234  ...    ...  \n",
       "478613                                           NaN          1.7  ...    ...  \n",
       "478614                                           3.0         7758  ...    ...  \n",
       "478615                                           4.0         7131  ...    ...  "
      ]
     },
     "execution_count": 87,
     "metadata": {},
     "output_type": "execute_result"
    }
   ],
   "source": [
    "df_filtered = df[df['GEO_NAME'].str.contains(location.raw['address']['city' or 'town'], na=False)]\n",
    "df_filtered.head()"
   ]
  },
  {
   "cell_type": "code",
   "execution_count": 88,
   "metadata": {},
   "outputs": [],
   "source": [
    "df_filtered = df_filtered.drop(columns=['GNR','GNR_LF','DATA_QUALITY_FLAG','ALT_GEO_CODE','GEO_LEVEL','Member ID: Profile of Dissemination Areas (2247)','Notes: Profile of Dissemination Areas (2247)'], axis=1)"
   ]
  },
  {
   "cell_type": "code",
   "execution_count": 89,
   "metadata": {},
   "outputs": [
    {
     "data": {
      "text/html": [
       "<div>\n",
       "<style scoped>\n",
       "    .dataframe tbody tr th:only-of-type {\n",
       "        vertical-align: middle;\n",
       "    }\n",
       "\n",
       "    .dataframe tbody tr th {\n",
       "        vertical-align: top;\n",
       "    }\n",
       "\n",
       "    .dataframe thead th {\n",
       "        text-align: right;\n",
       "    }\n",
       "</style>\n",
       "<table border=\"1\" class=\"dataframe\">\n",
       "  <thead>\n",
       "    <tr style=\"text-align: right;\">\n",
       "      <th></th>\n",
       "      <th>CENSUS_YEAR</th>\n",
       "      <th>GEO_CODE (POR)</th>\n",
       "      <th>GEO_NAME</th>\n",
       "      <th>Data</th>\n",
       "      <th>Total gender</th>\n",
       "      <th>Male</th>\n",
       "      <th>Female</th>\n",
       "    </tr>\n",
       "  </thead>\n",
       "  <tbody>\n",
       "    <tr>\n",
       "      <th>478611</th>\n",
       "      <td>2016</td>\n",
       "      <td>6106023</td>\n",
       "      <td>Yellowknife</td>\n",
       "      <td>Population, 2016</td>\n",
       "      <td>19569</td>\n",
       "      <td>...</td>\n",
       "      <td>...</td>\n",
       "    </tr>\n",
       "    <tr>\n",
       "      <th>478612</th>\n",
       "      <td>2016</td>\n",
       "      <td>6106023</td>\n",
       "      <td>Yellowknife</td>\n",
       "      <td>Population, 2011</td>\n",
       "      <td>19234</td>\n",
       "      <td>...</td>\n",
       "      <td>...</td>\n",
       "    </tr>\n",
       "    <tr>\n",
       "      <th>478613</th>\n",
       "      <td>2016</td>\n",
       "      <td>6106023</td>\n",
       "      <td>Yellowknife</td>\n",
       "      <td>Population percentage change, 2011 to 2016</td>\n",
       "      <td>1.7</td>\n",
       "      <td>...</td>\n",
       "      <td>...</td>\n",
       "    </tr>\n",
       "    <tr>\n",
       "      <th>478614</th>\n",
       "      <td>2016</td>\n",
       "      <td>6106023</td>\n",
       "      <td>Yellowknife</td>\n",
       "      <td>Total private dwellings</td>\n",
       "      <td>7758</td>\n",
       "      <td>...</td>\n",
       "      <td>...</td>\n",
       "    </tr>\n",
       "    <tr>\n",
       "      <th>478615</th>\n",
       "      <td>2016</td>\n",
       "      <td>6106023</td>\n",
       "      <td>Yellowknife</td>\n",
       "      <td>Private dwellings occupied by usual residents</td>\n",
       "      <td>7131</td>\n",
       "      <td>...</td>\n",
       "      <td>...</td>\n",
       "    </tr>\n",
       "  </tbody>\n",
       "</table>\n",
       "</div>"
      ],
      "text/plain": [
       "        CENSUS_YEAR  GEO_CODE (POR)     GEO_NAME  \\\n",
       "478611         2016         6106023  Yellowknife   \n",
       "478612         2016         6106023  Yellowknife   \n",
       "478613         2016         6106023  Yellowknife   \n",
       "478614         2016         6106023  Yellowknife   \n",
       "478615         2016         6106023  Yellowknife   \n",
       "\n",
       "                                                 Data Total gender Male Female  \n",
       "478611                               Population, 2016        19569  ...    ...  \n",
       "478612                               Population, 2011        19234  ...    ...  \n",
       "478613     Population percentage change, 2011 to 2016          1.7  ...    ...  \n",
       "478614                        Total private dwellings         7758  ...    ...  \n",
       "478615  Private dwellings occupied by usual residents         7131  ...    ...  "
      ]
     },
     "execution_count": 89,
     "metadata": {},
     "output_type": "execute_result"
    }
   ],
   "source": [
    "df_filtered.head()"
   ]
  },
  {
   "cell_type": "code",
   "execution_count": 91,
   "metadata": {},
   "outputs": [
    {
     "name": "stderr",
     "output_type": "stream",
     "text": [
      "/opt/conda/lib/python3.7/site-packages/ipykernel_launcher.py:1: UserWarning: Boolean Series key will be reindexed to match DataFrame index.\n",
      "  \"\"\"Entry point for launching an IPython kernel.\n"
     ]
    },
    {
     "data": {
      "text/html": [
       "<div>\n",
       "<style scoped>\n",
       "    .dataframe tbody tr th:only-of-type {\n",
       "        vertical-align: middle;\n",
       "    }\n",
       "\n",
       "    .dataframe tbody tr th {\n",
       "        vertical-align: top;\n",
       "    }\n",
       "\n",
       "    .dataframe thead th {\n",
       "        text-align: right;\n",
       "    }\n",
       "</style>\n",
       "<table border=\"1\" class=\"dataframe\">\n",
       "  <thead>\n",
       "    <tr style=\"text-align: right;\">\n",
       "      <th></th>\n",
       "      <th>CENSUS_YEAR</th>\n",
       "      <th>GEO_CODE (POR)</th>\n",
       "      <th>GEO_NAME</th>\n",
       "      <th>Data</th>\n",
       "      <th>Total gender</th>\n",
       "      <th>Male</th>\n",
       "      <th>Female</th>\n",
       "    </tr>\n",
       "  </thead>\n",
       "  <tbody>\n",
       "    <tr>\n",
       "      <th>478611</th>\n",
       "      <td>2016</td>\n",
       "      <td>6106023</td>\n",
       "      <td>Yellowknife</td>\n",
       "      <td>Population, 2016</td>\n",
       "      <td>19569</td>\n",
       "      <td>...</td>\n",
       "      <td>...</td>\n",
       "    </tr>\n",
       "  </tbody>\n",
       "</table>\n",
       "</div>"
      ],
      "text/plain": [
       "        CENSUS_YEAR  GEO_CODE (POR)     GEO_NAME              Data  \\\n",
       "478611         2016         6106023  Yellowknife  Population, 2016   \n",
       "\n",
       "       Total gender Male Female  \n",
       "478611        19569  ...    ...  "
      ]
     },
     "execution_count": 91,
     "metadata": {},
     "output_type": "execute_result"
    }
   ],
   "source": [
    "df_filtered[df['Data'] == 'Population, 2016']"
   ]
  },
  {
   "cell_type": "markdown",
   "metadata": {},
   "source": [
    "#### ** NOTE**\n",
    "- Should replace the ones of which GEO_NAME is in number format with the name, once this info can be brought from shape file.\n",
    "- Need to generalize the dataset, not just Territories, but all the provinces included.\n",
    "- The code for now is just when single user info is given, need to make it work for when multiple user lat&long are given.\n",
    "- Need to discuss further on which parameters we should consider.\n",
    "- See if user's lat&long is within polygon lat&long boundaries: Challenge - lat&long doesnt' exist in census data, only the geo_name."
   ]
  },
  {
   "cell_type": "code",
   "execution_count": null,
   "metadata": {},
   "outputs": [],
   "source": []
  }
 ],
 "metadata": {
  "kernelspec": {
   "display_name": "Python 3",
   "language": "python",
   "name": "python3"
  },
  "language_info": {
   "codemirror_mode": {
    "name": "ipython",
    "version": 3
   },
   "file_extension": ".py",
   "mimetype": "text/x-python",
   "name": "python",
   "nbconvert_exporter": "python",
   "pygments_lexer": "ipython3",
   "version": "3.7.6"
  }
 },
 "nbformat": 4,
 "nbformat_minor": 4
}
